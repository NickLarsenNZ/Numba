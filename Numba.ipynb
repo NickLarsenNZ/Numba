{
  "nbformat": 4,
  "nbformat_minor": 0,
  "metadata": {
    "colab": {
      "name": "Numba.ipynb",
      "provenance": [],
      "collapsed_sections": [],
      "machine_shape": "hm",
      "include_colab_link": true
    },
    "kernelspec": {
      "name": "python3",
      "display_name": "Python 3"
    }
  },
  "cells": [
    {
      "cell_type": "markdown",
      "metadata": {
        "id": "view-in-github",
        "colab_type": "text"
      },
      "source": [
        "<a href=\"https://colab.research.google.com/github/pflashgary/Numba/blob/master/Numba.ipynb\" target=\"_parent\"><img src=\"https://colab.research.google.com/assets/colab-badge.svg\" alt=\"Open In Colab\"/></a>"
      ]
    },
    {
      "cell_type": "code",
      "metadata": {
        "id": "nslolZdm7Mfa",
        "colab_type": "code",
        "outputId": "e2291541-356b-4aed-efcd-72a216babb3e",
        "colab": {
          "base_uri": "https://localhost:8080/",
          "height": 1000
        }
      },
      "source": [
        "!apt-get install nvidia-cuda-toolkit\n",
        "!pip3 install numba\n",
        "\n",
        "import os\n",
        "os.environ['NUMBAPRO_LIBDEVICE'] = \"/usr/lib/nvidia-cuda-toolkit/libdevice\"\n",
        "os.environ['NUMBAPRO_NVVM'] = \"/usr/lib/x86_64-linux-gnu/libnvvm.so\"\n"
      ],
      "execution_count": 0,
      "outputs": []
    },
    {
      "cell_type": "code",
      "metadata": {
        "id": "c0GGe84X7kOJ",
        "colab_type": "code",
        "outputId": "4256b41b-7084-474f-e301-0974b501fa4f",
        "colab": {
          "base_uri": "https://localhost:8080/",
          "height": 593
        }
      },
      "source": [
        "\"\"\"\n",
        "Created on 4 Dec 2019\n",
        "@author: Pegah Faegh\n",
        "\"\"\"\n",
        "\n",
        "from numba import guvectorize\n",
        "import numpy as np\n",
        "from timeit import default_timer as timer\n",
        "\n",
        "@guvectorize(['void(int64[:,:], int64[:,:], int64[:,:])'],\n",
        "             '(m,n),(n,p)->(m,p)')\n",
        "def AstarBwith(A, B, C):\n",
        "    m, n = A.shape\n",
        "    n, p = B.shape\n",
        "    for i in range(m):\n",
        "        for j in range(p):\n",
        "            C[i, j] = 0\n",
        "            for k in range(n):\n",
        "                C[i, j] += A[i, k] * B[k, j]\n",
        "\n",
        "n = 10000\n",
        "A = np.random.randint(n,size=(n, n))\n",
        "B = np.random.randint(n,size=(n, n))\n",
        "\n",
        "start = timer()\n",
        "C = AstarBwith(A, B)\n",
        "gpu_time = timer() - start\n",
        "print(\"with GPU took %f seconds\" % gpu_time)\n",
        "\n",
        "\n",
        "print(\"C = A*B\")\n",
        "print(\":\\n%s\" % C)\n",
        "\n",
        "\n",
        "# def AstarBwithout(A, B):\n",
        "#     m, n = A.shape\n",
        "#     n, p = B.shape\n",
        "#     for i in range(m):\n",
        "#         for j in range(p):\n",
        "#             C[i, j] = 0\n",
        "#             for k in range(n):\n",
        "#                 C[i, j] += A[i, k] * B[k, j]\n",
        "#     return C\n",
        "\n",
        "# start = timer()\n",
        "# C = AstarBwithout(A, B)\n",
        "# without_gpu_time = timer() - start\n",
        "# print(\"without GPU took %f seconds\" % without_gpu_time)\n",
        "\n",
        "# print(\"C = A*B\")\n",
        "# print(\":\\n%s\" % C)\n",
        "\n",
        "\n",
        "start = timer()\n",
        "C = np.matmul(A,B)\n",
        "numpy_time = timer() - start\n",
        "print(\"numpy took %f seconds\" % numpy_time)\n",
        "\n",
        "print(\"C = A*B\")\n",
        "print(\":\\n%s\" % C)\n",
        "\n",
        "\n"
      ],
      "execution_count": 1,
      "outputs": [
        {
          "output_type": "stream",
          "text": [
            "with GPU took 4294.036430 seconds\n",
            "C = A*B\n",
            ":\n",
            "[[247605807431 248508382753 248009470693 ... 250975160530 248207234271\n",
            "  247488833557]\n",
            " [250580815975 251505204658 248107987977 ... 254484528248 250766315569\n",
            "  250840045208]\n",
            " [250168268882 251150430529 247958021684 ... 254607243668 252481129224\n",
            "  251693164815]\n",
            " ...\n",
            " [246214696672 248232600698 246712292138 ... 250704421501 248999823102\n",
            "  245525831408]\n",
            " [248007767957 250187880446 248667159019 ... 251907080199 250796485279\n",
            "  249099611772]\n",
            " [246566796766 248811335860 249224363613 ... 251553326327 248380733790\n",
            "  249623250761]]\n",
            "numpy took 4755.848899 seconds\n",
            "C = A*B\n",
            ":\n",
            "[[247605807431 248508382753 248009470693 ... 250975160530 248207234271\n",
            "  247488833557]\n",
            " [250580815975 251505204658 248107987977 ... 254484528248 250766315569\n",
            "  250840045208]\n",
            " [250168268882 251150430529 247958021684 ... 254607243668 252481129224\n",
            "  251693164815]\n",
            " ...\n",
            " [246214696672 248232600698 246712292138 ... 250704421501 248999823102\n",
            "  245525831408]\n",
            " [248007767957 250187880446 248667159019 ... 251907080199 250796485279\n",
            "  249099611772]\n",
            " [246566796766 248811335860 249224363613 ... 251553326327 248380733790\n",
            "  249623250761]]\n"
          ],
          "name": "stdout"
        }
      ]
    },
    {
      "cell_type": "code",
      "metadata": {
        "id": "2B_EduceOZ4a",
        "colab_type": "code",
        "colab": {}
      },
      "source": [
        ""
      ],
      "execution_count": 0,
      "outputs": []
    }
  ]
}
